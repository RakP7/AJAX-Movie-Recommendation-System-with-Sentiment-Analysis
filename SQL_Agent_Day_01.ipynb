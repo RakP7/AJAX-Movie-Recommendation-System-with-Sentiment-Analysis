{
  "nbformat": 4,
  "nbformat_minor": 0,
  "metadata": {
    "colab": {
      "provenance": [],
      "include_colab_link": true
    },
    "kernelspec": {
      "name": "python3",
      "display_name": "Python 3"
    },
    "language_info": {
      "name": "python"
    }
  },
  "cells": [
    {
      "cell_type": "markdown",
      "metadata": {
        "id": "view-in-github",
        "colab_type": "text"
      },
      "source": [
        "<a href=\"https://colab.research.google.com/github/RakP7/AJAX-Movie-Recommendation-System-with-Sentiment-Analysis/blob/master/SQL_Agent_Day_01.ipynb\" target=\"_parent\"><img src=\"https://colab.research.google.com/assets/colab-badge.svg\" alt=\"Open In Colab\"/></a>"
      ]
    },
    {
      "cell_type": "markdown",
      "source": [
        "## Creating the Database"
      ],
      "metadata": {
        "id": "vOoRKlpBEHVM"
      }
    },
    {
      "cell_type": "code",
      "execution_count": null,
      "metadata": {
        "id": "h91ukGDWQYGe",
        "colab": {
          "base_uri": "https://localhost:8080/"
        },
        "outputId": "19d5b56c-4282-42e3-f020-f63fae396e26"
      },
      "outputs": [
        {
          "output_type": "stream",
          "name": "stdout",
          "text": [
            "--- Data from tables (SELECT * FROM AGENTS) ---\n",
            "('A007', 'Ramasundar', 'Bangalore', 0.15, '077-25814763', '')\n",
            "('A003', 'Alex ', 'London', 0.13, '075-12458969', '')\n",
            "('A008', 'Alford', 'New York', 0.12, '044-25874365', '')\n",
            "('A011', 'Ravi Kumar', 'Bangalore', 0.15, '077-45625874', '')\n",
            "('A010', 'Santakumar', 'Chennai', 0.14, '007-22388644', '')\n",
            "('A012', 'Lucida', 'San Jose', 0.12, '044-52981425', '')\n",
            "('A005', 'Anderson', 'Brisban', 0.13, '045-21447739', '')\n",
            "('A001', 'Subbarao', 'Bangalore', 0.14, '077-12346674', '')\n",
            "('A002', 'Mukesh', 'Mumbai', 0.11, '029-12358964', '')\n",
            "('A006', 'McDen', 'London', 0.15, '078-22255588', '')\n",
            "('A004', 'Ivan', 'Torento', 0.15, '008-22544166', '')\n",
            "('A009', 'Benjamin', 'Hampshair', 0.11, '008-22536178', '')\n",
            "--- Data from tables (SELECT * FROM CUSTOMER) ---\n",
            "('C00013', 'Holmes', 'London', 'London', 'UK', 2, 6000, 5000, 7000, 4000, 'BBBBBBB', 'A003')\n",
            "('C00001', 'Micheal', 'New York', 'New York', 'USA', 2, 3000, 5000, 2000, 6000, 'CCCCCCC', 'A008')\n",
            "('C00020', 'Albert', 'New York', 'New York', 'USA', 3, 5000, 7000, 6000, 6000, 'BBBBSBB', 'A008')\n",
            "('C00025', 'Ravindran', 'Bangalore', 'Bangalore', 'India', 2, 5000, 7000, 4000, 8000, 'AVAVAVA', 'A011')\n",
            "('C00024', 'Cook', 'London', 'London', 'UK', 2, 4000, 9000, 7000, 6000, 'FSDDSDF', 'A006')\n",
            "('C00015', 'Stuart', 'London', 'London', 'UK', 1, 6000, 8000, 3000, 11000, 'GFSGERS', 'A003')\n",
            "('C00002', 'Bolt', 'New York', 'New York', 'USA', 3, 5000, 7000, 9000, 3000, 'DDNRDRH', 'A008')\n",
            "('C00018', 'Fleming', 'Brisban', 'Brisban', 'Australia', 2, 7000, 7000, 9000, 5000, 'NHBGVFC', 'A005')\n",
            "('C00021', 'Jacks', 'Brisban', 'Brisban', 'Australia', 1, 7000, 7000, 7000, 7000, 'WERTGDF', 'A005')\n",
            "('C00019', 'Yearannaidu', 'Chennai', 'Chennai', 'India', 1, 8000, 7000, 7000, 8000, 'ZZZZBFV', 'A010')\n",
            "('C00005', 'Sasikant', 'Mumbai', 'Mumbai', 'India', 1, 7000, 11000, 7000, 11000, '147-25896312', 'A002')\n",
            "('C00007', 'Ramanathan', 'Chennai', 'Chennai', 'India', 1, 7000, 11000, 9000, 9000, 'GHRDWSD', 'A010')\n",
            "('C00022', 'Avinash', 'Mumbai', 'Mumbai', 'India', 2, 7000, 11000, 9000, 9000, '113-12345678', 'A002')\n",
            "('C00004', 'Winston', 'Brisban', 'Brisban', 'Australia', 1, 5000, 8000, 7000, 6000, 'AAAAAAA', 'A005')\n",
            "('C00023', 'Karl', 'London', 'London', 'UK', 0, 4000, 6000, 7000, 3000, 'AAAABAA', 'A006')\n",
            "('C00006', 'Shilton', 'Torento', 'Torento', 'Canada', 1, 10000, 7000, 6000, 11000, 'DDDDDDD', 'A004')\n",
            "('C00010', 'Charles', 'Hampshair', 'Hampshair', 'UK', 3, 6000, 4000, 5000, 5000, 'MMMMMMM', 'A009')\n",
            "('C00017', 'Srinivas', 'Bangalore', 'Bangalore', 'India', 2, 8000, 4000, 3000, 9000, 'AAAAAAB', 'A007')\n",
            "('C00012', 'Steven', 'San Jose', 'San Jose', 'USA', 1, 5000, 7000, 9000, 3000, 'KRFYGJK', 'A012')\n",
            "('C00008', 'Karolina', 'Torento', 'Torento', 'Canada', 1, 7000, 7000, 9000, 5000, 'HJKORED', 'A004')\n",
            "('C00003', 'Martin', 'Torento', 'Torento', 'Canada', 2, 8000, 7000, 7000, 8000, 'MJYURFD', 'A004')\n",
            "('C00009', 'Ramesh', 'Mumbai', 'Mumbai', 'India', 3, 8000, 7000, 3000, 12000, 'Phone No', 'A002')\n",
            "('C00014', 'Rangarappa', 'Bangalore', 'Bangalore', 'India', 2, 8000, 11000, 7000, 12000, 'AAAATGF', 'A001')\n",
            "('C00016', 'Venkatpati', 'Bangalore', 'Bangalore', 'India', 2, 8000, 11000, 7000, 12000, 'JRTVFDD', 'A007')\n",
            "('C00011', 'Sundariya', 'Chennai', 'Chennai', 'India', 3, 7000, 11000, 7000, 11000, 'PPHGRTS', 'A010')\n",
            "--- Data from tables (SELECT * FROM ORDERS) ---\n",
            "(200100, 1000, 600, '2008-08-01', 'C00013', 'A003', 'SOD')\n",
            "(200110, 3000, 500, '2008-04-15', 'C00019', 'A010', 'SOD')\n",
            "(200107, 4500, 900, '2008-08-30', 'C00007', 'A010', 'SOD')\n",
            "(200112, 2000, 400, '2008-05-30', 'C00016', 'A007', 'SOD')\n",
            "(200113, 4000, 600, '2008-06-10', 'C00022', 'A002', 'SOD')\n",
            "(200102, 2000, 300, '2008-05-25', 'C00012', 'A012', 'SOD')\n",
            "(200114, 3500, 2000, '2008-08-15', 'C00002', 'A008', 'SOD')\n",
            "(200122, 2500, 400, '2008-09-16', 'C00003', 'A004', 'SOD')\n",
            "(200118, 500, 100, '2008-07-20', 'C00023', 'A006', 'SOD')\n",
            "(200119, 4000, 700, '2008-09-16', 'C00007', 'A010', 'SOD')\n",
            "(200121, 1500, 600, '2008-09-23', 'C00008', 'A004', 'SOD')\n",
            "(200130, 2500, 400, '2008-07-30', 'C00025', 'A011', 'SOD')\n",
            "(200134, 4200, 1800, '2008-09-25', 'C00004', 'A005', 'SOD')\n",
            "(200108, 4000, 600, '2008-02-15', 'C00008', 'A004', 'SOD')\n",
            "(200103, 1500, 700, '2008-05-15', 'C00021', 'A005', 'SOD')\n",
            "(200105, 2500, 500, '2008-07-18', 'C00025', 'A011', 'SOD')\n",
            "(200109, 3500, 800, '2008-07-30', 'C00011', 'A010', 'SOD')\n",
            "(200101, 3000, 1000, '2008-07-15', 'C00001', 'A008', 'SOD')\n",
            "(200111, 1000, 300, '2008-07-10', 'C00020', 'A008', 'SOD')\n",
            "(200104, 1500, 500, '2008-03-13', 'C00006', 'A004', 'SOD')\n",
            "(200106, 2500, 700, '2008-04-20', 'C00005', 'A002', 'SOD')\n",
            "(200125, 2000, 600, '2008-10-10', 'C00018', 'A005', 'SOD')\n",
            "(200117, 800, 200, '2008-10-20', 'C00014', 'A001', 'SOD')\n",
            "(200123, 500, 100, '2008-09-16', 'C00022', 'A002', 'SOD')\n",
            "(200120, 500, 100, '2008-07-20', 'C00009', 'A002', 'SOD')\n",
            "(200116, 500, 100, '2008-07-13', 'C00010', 'A009', 'SOD')\n",
            "(200124, 500, 100, '2008-06-20', 'C00017', 'A007', 'SOD')\n",
            "(200126, 500, 100, '2008-06-24', 'C00022', 'A002', 'SOD')\n",
            "(200129, 2500, 500, '2008-07-20', 'C00024', 'A006', 'SOD')\n",
            "(200127, 2500, 400, '2008-07-20', 'C00015', 'A003', 'SOD')\n",
            "(200128, 3500, 1500, '2008-07-20', 'C00009', 'A002', 'SOD')\n",
            "(200135, 2000, 800, '2008-09-16', 'C00007', 'A010', 'SOD')\n",
            "(200131, 900, 150, '2008-08-26', 'C00012', 'A012', 'SOD')\n",
            "(200133, 1200, 400, '2008-06-29', 'C00009', 'A002', 'SOD')\n"
          ]
        }
      ],
      "source": [
        "import sqlite3\n",
        "import os\n",
        "\n",
        "# File path\n",
        "database_file_path = './sql_lite_database.db'\n",
        "\n",
        "# Check if database file exists and delete if it does\n",
        "if os.path.exists(database_file_path):\n",
        "    os.remove(database_file_path)\n",
        "    message = \"File 'sql_lite_database.db' found and deleted.\"\n",
        "else:\n",
        "    message = \"File 'sql_lite_database.db' does not exist.\"\n",
        "\n",
        "# Step 1: Connect to the database or create it if it doesn't exist\n",
        "conn = sqlite3.connect(database_file_path)\n",
        "\n",
        "# Step 2: Create a cursor\n",
        "cursor = conn.cursor()\n",
        "\n",
        "# Step 3: Create tables\n",
        "create_table_query1 = \"\"\"\n",
        "                        CREATE TABLE IF NOT EXISTS   \"AGENTS\"\n",
        "                        (\n",
        "                            \"AGENT_CODE\" CHAR(6) NOT NULL PRIMARY KEY,\n",
        "                            \"AGENT_NAME\" CHAR(40),\n",
        "                            \"WORKING_AREA\" CHAR(35),\n",
        "                            \"COMMISSION\" NUMBER(10,2),\n",
        "                            \"PHONE_NO\" CHAR(15),\n",
        "                            \"COUNTRY\" VARCHAR2(25)\n",
        "                            );\n",
        "                        \"\"\"\n",
        "\n",
        "create_table_query2 = \"\"\"\n",
        "                        CREATE TABLE IF NOT EXISTS   \"CUSTOMER\"\n",
        "                        (\t\"CUST_CODE\" VARCHAR2(6) NOT NULL PRIMARY KEY,\n",
        "                            \"CUST_NAME\" VARCHAR2(40) NOT NULL,\n",
        "                            \"CUST_CITY\" CHAR(35),\n",
        "                            \"WORKING_AREA\" VARCHAR2(35) NOT NULL,\n",
        "                            \"CUST_COUNTRY\" VARCHAR2(20) NOT NULL,\n",
        "                            \"GRADE\" NUMBER,\n",
        "                            \"OPENING_AMT\" NUMBER(12,2) NOT NULL,\n",
        "                            \"RECEIVE_AMT\" NUMBER(12,2) NOT NULL,\n",
        "                            \"PAYMENT_AMT\" NUMBER(12,2) NOT NULL,\n",
        "                            \"OUTSTANDING_AMT\" NUMBER(12,2) NOT NULL,\n",
        "                            \"PHONE_NO\" VARCHAR2(17) NOT NULL,\n",
        "                            \"AGENT_CODE\" CHAR(6) NOT NULL REFERENCES AGENTS\n",
        "                        );\n",
        "                        \"\"\"\n",
        "\n",
        "create_table_query3 = \"\"\"\n",
        "                        CREATE TABLE IF NOT EXISTS \"ORDERS\"\n",
        "                        (\n",
        "                            \"ORD_NUM\" NUMBER(6,0) NOT NULL PRIMARY KEY,\n",
        "                            \"ORD_AMOUNT\" NUMBER(12,2) NOT NULL,\n",
        "                            \"ADVANCE_AMOUNT\" NUMBER(12,2) NOT NULL,\n",
        "                            \"ORD_DATE\" DATE NOT NULL,\n",
        "                            \"CUST_CODE\" VARCHAR2(6) NOT NULL REFERENCES CUSTOMER,\n",
        "                            \"AGENT_CODE\" CHAR(6) NOT NULL REFERENCES AGENTS,\n",
        "                            \"ORD_DESCRIPTION\" VARCHAR2(60) NOT NULL\n",
        "                        );\n",
        "                        \"\"\"\n",
        "\n",
        "queries = [create_table_query1, create_table_query2, create_table_query3]\n",
        "# queries = [create_table_query1, create_table_query2]\n",
        "\n",
        "for query in queries:\n",
        "    # execute queries\n",
        "    cursor.execute(query)\n",
        "\n",
        "# Step 4: Insert data into tables Agents, Orders and Customers\n",
        "insert_query = \"\"\"\n",
        "INSERT INTO AGENTS VALUES ('A007', 'Ramasundar', 'Bangalore', '0.15', '077-25814763', '');\n",
        "INSERT INTO AGENTS VALUES ('A003', 'Alex ', 'London', '0.13', '075-12458969', '');\n",
        "INSERT INTO AGENTS VALUES ('A008', 'Alford', 'New York', '0.12', '044-25874365', '');\n",
        "INSERT INTO AGENTS VALUES ('A011', 'Ravi Kumar', 'Bangalore', '0.15', '077-45625874', '');\n",
        "INSERT INTO AGENTS VALUES ('A010', 'Santakumar', 'Chennai', '0.14', '007-22388644', '');\n",
        "INSERT INTO AGENTS VALUES ('A012', 'Lucida', 'San Jose', '0.12', '044-52981425', '');\n",
        "INSERT INTO AGENTS VALUES ('A005', 'Anderson', 'Brisban', '0.13', '045-21447739', '');\n",
        "INSERT INTO AGENTS VALUES ('A001', 'Subbarao', 'Bangalore', '0.14', '077-12346674', '');\n",
        "INSERT INTO AGENTS VALUES ('A002', 'Mukesh', 'Mumbai', '0.11', '029-12358964', '');\n",
        "INSERT INTO AGENTS VALUES ('A006', 'McDen', 'London', '0.15', '078-22255588', '');\n",
        "INSERT INTO AGENTS VALUES ('A004', 'Ivan', 'Torento', '0.15', '008-22544166', '');\n",
        "INSERT INTO AGENTS VALUES ('A009', 'Benjamin', 'Hampshair', '0.11', '008-22536178', '');\n",
        "INSERT INTO CUSTOMER VALUES ('C00013', 'Holmes', 'London', 'London', 'UK', '2', '6000.00', '5000.00', '7000.00', '4000.00', 'BBBBBBB', 'A003');\n",
        "INSERT INTO CUSTOMER VALUES ('C00001', 'Micheal', 'New York', 'New York', 'USA', '2', '3000.00', '5000.00', '2000.00', '6000.00', 'CCCCCCC', 'A008');\n",
        "INSERT INTO CUSTOMER VALUES ('C00020', 'Albert', 'New York', 'New York', 'USA', '3', '5000.00', '7000.00', '6000.00', '6000.00', 'BBBBSBB', 'A008');\n",
        "INSERT INTO CUSTOMER VALUES ('C00025', 'Ravindran', 'Bangalore', 'Bangalore', 'India', '2', '5000.00', '7000.00', '4000.00', '8000.00', 'AVAVAVA', 'A011');\n",
        "INSERT INTO CUSTOMER VALUES ('C00024', 'Cook', 'London', 'London', 'UK', '2', '4000.00', '9000.00', '7000.00', '6000.00', 'FSDDSDF', 'A006');\n",
        "INSERT INTO CUSTOMER VALUES ('C00015', 'Stuart', 'London', 'London', 'UK', '1', '6000.00', '8000.00', '3000.00', '11000.00', 'GFSGERS', 'A003');\n",
        "INSERT INTO CUSTOMER VALUES ('C00002', 'Bolt', 'New York', 'New York', 'USA', '3', '5000.00', '7000.00', '9000.00', '3000.00', 'DDNRDRH', 'A008');\n",
        "INSERT INTO CUSTOMER VALUES ('C00018', 'Fleming', 'Brisban', 'Brisban', 'Australia', '2', '7000.00', '7000.00', '9000.00', '5000.00', 'NHBGVFC', 'A005');\n",
        "INSERT INTO CUSTOMER VALUES ('C00021', 'Jacks', 'Brisban', 'Brisban', 'Australia', '1', '7000.00', '7000.00', '7000.00', '7000.00', 'WERTGDF', 'A005');\n",
        "INSERT INTO CUSTOMER VALUES ('C00019', 'Yearannaidu', 'Chennai', 'Chennai', 'India', '1', '8000.00', '7000.00', '7000.00', '8000.00', 'ZZZZBFV', 'A010');\n",
        "INSERT INTO CUSTOMER VALUES ('C00005', 'Sasikant', 'Mumbai', 'Mumbai', 'India', '1', '7000.00', '11000.00', '7000.00', '11000.00', '147-25896312', 'A002');\n",
        "INSERT INTO CUSTOMER VALUES ('C00007', 'Ramanathan', 'Chennai', 'Chennai', 'India', '1', '7000.00', '11000.00', '9000.00', '9000.00', 'GHRDWSD', 'A010');\n",
        "INSERT INTO CUSTOMER VALUES ('C00022', 'Avinash', 'Mumbai', 'Mumbai', 'India', '2', '7000.00', '11000.00', '9000.00', '9000.00', '113-12345678','A002');\n",
        "INSERT INTO CUSTOMER VALUES ('C00004', 'Winston', 'Brisban', 'Brisban', 'Australia', '1', '5000.00', '8000.00', '7000.00', '6000.00', 'AAAAAAA', 'A005');\n",
        "INSERT INTO CUSTOMER VALUES ('C00023', 'Karl', 'London', 'London', 'UK', '0', '4000.00', '6000.00', '7000.00', '3000.00', 'AAAABAA', 'A006');\n",
        "INSERT INTO CUSTOMER VALUES ('C00006', 'Shilton', 'Torento', 'Torento', 'Canada', '1', '10000.00', '7000.00', '6000.00', '11000.00', 'DDDDDDD', 'A004');\n",
        "INSERT INTO CUSTOMER VALUES ('C00010', 'Charles', 'Hampshair', 'Hampshair', 'UK', '3', '6000.00', '4000.00', '5000.00', '5000.00', 'MMMMMMM', 'A009');\n",
        "INSERT INTO CUSTOMER VALUES ('C00017', 'Srinivas', 'Bangalore', 'Bangalore', 'India', '2', '8000.00', '4000.00', '3000.00', '9000.00', 'AAAAAAB', 'A007');\n",
        "INSERT INTO CUSTOMER VALUES ('C00012', 'Steven', 'San Jose', 'San Jose', 'USA', '1', '5000.00', '7000.00', '9000.00', '3000.00', 'KRFYGJK', 'A012');\n",
        "INSERT INTO CUSTOMER VALUES ('C00008', 'Karolina', 'Torento', 'Torento', 'Canada', '1', '7000.00', '7000.00', '9000.00', '5000.00', 'HJKORED', 'A004');\n",
        "INSERT INTO CUSTOMER VALUES ('C00003', 'Martin', 'Torento', 'Torento', 'Canada', '2', '8000.00', '7000.00', '7000.00', '8000.00', 'MJYURFD', 'A004');\n",
        "INSERT INTO CUSTOMER VALUES ('C00009', 'Ramesh', 'Mumbai', 'Mumbai', 'India', '3', '8000.00', '7000.00', '3000.00', '12000.00', 'Phone No', 'A002');\n",
        "INSERT INTO CUSTOMER VALUES ('C00014', 'Rangarappa', 'Bangalore', 'Bangalore', 'India', '2', '8000.00', '11000.00', '7000.00', '12000.00', 'AAAATGF', 'A001');\n",
        "INSERT INTO CUSTOMER VALUES ('C00016', 'Venkatpati', 'Bangalore', 'Bangalore', 'India', '2', '8000.00', '11000.00', '7000.00', '12000.00', 'JRTVFDD', 'A007');\n",
        "INSERT INTO CUSTOMER VALUES ('C00011', 'Sundariya', 'Chennai', 'Chennai', 'India', '3', '7000.00', '11000.00', '7000.00', '11000.00', 'PPHGRTS', 'A010');\n",
        "INSERT INTO ORDERS VALUES('200100', '1000.00', '600.00', '2008-08-01', 'C00013', 'A003', 'SOD');\n",
        "INSERT INTO ORDERS VALUES('200110', '3000.00', '500.00', '2008-04-15', 'C00019', 'A010', 'SOD');\n",
        "INSERT INTO ORDERS VALUES('200107', '4500.00', '900.00', '2008-08-30', 'C00007', 'A010', 'SOD');\n",
        "INSERT INTO ORDERS VALUES('200112', '2000.00', '400.00', '2008-05-30', 'C00016', 'A007', 'SOD');\n",
        "INSERT INTO ORDERS VALUES('200113', '4000.00', '600.00', '2008-06-10', 'C00022', 'A002', 'SOD');\n",
        "INSERT INTO ORDERS VALUES('200102', '2000.00', '300.00', '2008-05-25', 'C00012', 'A012', 'SOD');\n",
        "INSERT INTO ORDERS VALUES('200114', '3500.00', '2000.00', '2008-08-15', 'C00002', 'A008', 'SOD');\n",
        "INSERT INTO ORDERS VALUES('200122', '2500.00', '400.00', '2008-09-16', 'C00003', 'A004', 'SOD');\n",
        "INSERT INTO ORDERS VALUES('200118', '500.00', '100.00', '2008-07-20', 'C00023', 'A006', 'SOD');\n",
        "INSERT INTO ORDERS VALUES('200119', '4000.00', '700.00', '2008-09-16', 'C00007', 'A010', 'SOD');\n",
        "INSERT INTO ORDERS VALUES('200121', '1500.00', '600.00', '2008-09-23', 'C00008', 'A004', 'SOD');\n",
        "INSERT INTO ORDERS VALUES('200130', '2500.00', '400.00', '2008-07-30', 'C00025', 'A011', 'SOD');\n",
        "INSERT INTO ORDERS VALUES('200134', '4200.00', '1800.00', '2008-09-25', 'C00004', 'A005', 'SOD');\n",
        "INSERT INTO ORDERS VALUES('200108', '4000.00', '600.00', '2008-02-15', 'C00008', 'A004', 'SOD');\n",
        "INSERT INTO ORDERS VALUES('200103', '1500.00', '700.00', '2008-05-15', 'C00021', 'A005', 'SOD');\n",
        "INSERT INTO ORDERS VALUES('200105', '2500.00', '500.00', '2008-07-18', 'C00025', 'A011', 'SOD');\n",
        "INSERT INTO ORDERS VALUES('200109', '3500.00', '800.00', '2008-07-30', 'C00011', 'A010', 'SOD');\n",
        "INSERT INTO ORDERS VALUES('200101', '3000.00', '1000.00', '2008-07-15', 'C00001', 'A008', 'SOD');\n",
        "INSERT INTO ORDERS VALUES('200111', '1000.00', '300.00', '2008-07-10', 'C00020', 'A008', 'SOD');\n",
        "INSERT INTO ORDERS VALUES('200104', '1500.00', '500.00', '2008-03-13', 'C00006', 'A004', 'SOD');\n",
        "INSERT INTO ORDERS VALUES('200106', '2500.00', '700.00', '2008-04-20', 'C00005', 'A002', 'SOD');\n",
        "INSERT INTO ORDERS VALUES('200125', '2000.00', '600.00', '2008-10-10', 'C00018', 'A005', 'SOD');\n",
        "INSERT INTO ORDERS VALUES('200117', '800.00', '200.00', '2008-10-20', 'C00014', 'A001', 'SOD');\n",
        "INSERT INTO ORDERS VALUES('200123', '500.00', '100.00', '2008-09-16', 'C00022', 'A002', 'SOD');\n",
        "INSERT INTO ORDERS VALUES('200120', '500.00', '100.00', '2008-07-20', 'C00009', 'A002', 'SOD');\n",
        "INSERT INTO ORDERS VALUES('200116', '500.00', '100.00', '2008-07-13', 'C00010', 'A009', 'SOD');\n",
        "INSERT INTO ORDERS VALUES('200124', '500.00', '100.00', '2008-06-20', 'C00017', 'A007', 'SOD');\n",
        "INSERT INTO ORDERS VALUES('200126', '500.00', '100.00', '2008-06-24', 'C00022', 'A002', 'SOD');\n",
        "INSERT INTO ORDERS VALUES('200129', '2500.00', '500.00', '2008-07-20', 'C00024', 'A006', 'SOD');\n",
        "INSERT INTO ORDERS VALUES('200127', '2500.00', '400.00', '2008-07-20', 'C00015', 'A003', 'SOD');\n",
        "INSERT INTO ORDERS VALUES('200128', '3500.00', '1500.00', '2008-07-20', 'C00009', 'A002', 'SOD');\n",
        "INSERT INTO ORDERS VALUES('200135', '2000.00', '800.00', '2008-09-16', 'C00007', 'A010', 'SOD');\n",
        "INSERT INTO ORDERS VALUES('200131', '900.00', '150.00', '2008-08-26', 'C00012', 'A012', 'SOD');\n",
        "INSERT INTO ORDERS VALUES('200133', '1200.00', '400.00', '2008-06-29', 'C00009', 'A002', 'SOD');\n",
        "\"\"\"\n",
        "\n",
        "for row in insert_query.splitlines():\n",
        "    try:\n",
        "        cursor.execute(row)\n",
        "    except:\n",
        "        print(f\"An error occurred\")\n",
        "        print(row)\n",
        "\n",
        "# Step 5: Fetch data from tables\n",
        "list_of_queries = []\n",
        "list_of_queries.append(\"SELECT * FROM AGENTS\")\n",
        "list_of_queries.append(\"SELECT * FROM CUSTOMER\")\n",
        "list_of_queries.append(\"SELECT * FROM ORDERS\")\n",
        "\n",
        "# execute queries\n",
        "for query in list_of_queries:\n",
        "    cursor.execute(query)\n",
        "    data = cursor.fetchall()\n",
        "\n",
        "    print(f\"--- Data from tables ({query}) ---\")\n",
        "    for row in data:\n",
        "        print(row)\n",
        "\n",
        "# Step 7: Close the cursor and connection\n",
        "cursor.close()\n",
        "conn.commit()\n",
        "conn.close()"
      ]
    },
    {
      "cell_type": "markdown",
      "source": [
        "## Building SQL Agent\n",
        "- To be able to chat with our database, we use LangChain Agents. As a toolkit we are using the SQLDatabaseToolkit."
      ],
      "metadata": {
        "id": "rBJTVp5y1gEv"
      }
    },
    {
      "cell_type": "markdown",
      "source": [
        "### Installing the libraries"
      ],
      "metadata": {
        "id": "5ihiW1yBEcH9"
      }
    },
    {
      "cell_type": "code",
      "source": [
        "!pip -qq install langchain\n",
        "!pip -qq install -U langchain-community\n",
        "!pip -qq install -U langchain-openai\n",
        "!pip -qq install python-dotenv"
      ],
      "metadata": {
        "colab": {
          "base_uri": "https://localhost:8080/"
        },
        "id": "-2qUj2_H2Gqr",
        "outputId": "96b41c52-7475-426e-c27c-c0b35dd78df7"
      },
      "execution_count": null,
      "outputs": [
        {
          "output_type": "stream",
          "name": "stdout",
          "text": [
            "\u001b[2K     \u001b[90m━━━━━━━━━━━━━━━━━━━━━━━━━━━━━━━━━━━━━━━━\u001b[0m \u001b[32m974.6/974.6 kB\u001b[0m \u001b[31m8.0 MB/s\u001b[0m eta \u001b[36m0:00:00\u001b[0m\n",
            "\u001b[2K     \u001b[90m━━━━━━━━━━━━━━━━━━━━━━━━━━━━━━━━━━━━━━━━\u001b[0m \u001b[32m321.8/321.8 kB\u001b[0m \u001b[31m10.4 MB/s\u001b[0m eta \u001b[36m0:00:00\u001b[0m\n",
            "\u001b[2K     \u001b[90m━━━━━━━━━━━━━━━━━━━━━━━━━━━━━━━━━━━━━━━━\u001b[0m \u001b[32m127.1/127.1 kB\u001b[0m \u001b[31m11.4 MB/s\u001b[0m eta \u001b[36m0:00:00\u001b[0m\n",
            "\u001b[2K     \u001b[90m━━━━━━━━━━━━━━━━━━━━━━━━━━━━━━━━━━━━━━━━\u001b[0m \u001b[32m145.0/145.0 kB\u001b[0m \u001b[31m8.9 MB/s\u001b[0m eta \u001b[36m0:00:00\u001b[0m\n",
            "\u001b[2K     \u001b[90m━━━━━━━━━━━━━━━━━━━━━━━━━━━━━━━━━━━━━━━━\u001b[0m \u001b[32m2.2/2.2 MB\u001b[0m \u001b[31m30.2 MB/s\u001b[0m eta \u001b[36m0:00:00\u001b[0m\n",
            "\u001b[2K     \u001b[90m━━━━━━━━━━━━━━━━━━━━━━━━━━━━━━━━━━━━━━━━\u001b[0m \u001b[32m49.2/49.2 kB\u001b[0m \u001b[31m6.5 MB/s\u001b[0m eta \u001b[36m0:00:00\u001b[0m\n",
            "\u001b[2K     \u001b[90m━━━━━━━━━━━━━━━━━━━━━━━━━━━━━━━━━━━━━━━━\u001b[0m \u001b[32m40.3/40.3 kB\u001b[0m \u001b[31m1.3 MB/s\u001b[0m eta \u001b[36m0:00:00\u001b[0m\n",
            "\u001b[2K     \u001b[90m━━━━━━━━━━━━━━━━━━━━━━━━━━━━━━━━━━━━━━━━\u001b[0m \u001b[32m327.4/327.4 kB\u001b[0m \u001b[31m7.8 MB/s\u001b[0m eta \u001b[36m0:00:00\u001b[0m\n",
            "\u001b[2K     \u001b[90m━━━━━━━━━━━━━━━━━━━━━━━━━━━━━━━━━━━━━━━━\u001b[0m \u001b[32m1.1/1.1 MB\u001b[0m \u001b[31m12.9 MB/s\u001b[0m eta \u001b[36m0:00:00\u001b[0m\n",
            "\u001b[2K     \u001b[90m━━━━━━━━━━━━━━━━━━━━━━━━━━━━━━━━━━━━━━━━\u001b[0m \u001b[32m75.6/75.6 kB\u001b[0m \u001b[31m8.2 MB/s\u001b[0m eta \u001b[36m0:00:00\u001b[0m\n",
            "\u001b[2K     \u001b[90m━━━━━━━━━━━━━━━━━━━━━━━━━━━━━━━━━━━━━━━━\u001b[0m \u001b[32m77.9/77.9 kB\u001b[0m \u001b[31m9.2 MB/s\u001b[0m eta \u001b[36m0:00:00\u001b[0m\n",
            "\u001b[2K     \u001b[90m━━━━━━━━━━━━━━━━━━━━━━━━━━━━━━━━━━━━━━━━\u001b[0m \u001b[32m58.3/58.3 kB\u001b[0m \u001b[31m6.6 MB/s\u001b[0m eta \u001b[36m0:00:00\u001b[0m\n",
            "\u001b[?25h"
          ]
        }
      ]
    },
    {
      "cell_type": "code",
      "source": [
        "import openai\n",
        "import getpass\n",
        "\n",
        "from google.colab import userdata\n",
        "\n",
        "# Enter your OpenAI API private access key here. IMPORTANT - don't share your code online if it contains your access key or anyone will be able to access your openai account\n",
        "api_key = userdata.get('OPENAI_API_KEY')"
      ],
      "metadata": {
        "id": "iTJKArdJDVjR"
      },
      "execution_count": null,
      "outputs": []
    },
    {
      "cell_type": "code",
      "source": [
        "import os\n",
        "os.environ['OPENAI_API_KEY'] = api_key"
      ],
      "metadata": {
        "id": "aGH5LC1ZDizT"
      },
      "execution_count": null,
      "outputs": []
    },
    {
      "cell_type": "markdown",
      "source": [
        "### LangChain Agents\n",
        "\n",
        "- To define our agents, we need to specify the following points:\n",
        "\n",
        "- The agent’s toolkit, here: SQLDatabaseToolkit\n",
        "- The agent executor with agent type, here: ZERO_SHOT_REACT_DESCRIPTION ."
      ],
      "metadata": {
        "id": "G-krqmHyE7r0"
      }
    },
    {
      "cell_type": "code",
      "source": [
        "from langchain.utilities import SQLDatabase\n",
        "from langchain.llms import OpenAI\n",
        "from langchain.agents.agent_types import AgentType\n",
        "from langchain.agents.agent_toolkits import SQLDatabaseToolkit\n",
        "from langchain.utilities import SQLDatabase\n",
        "from langchain_openai import OpenAI\n",
        "from langchain.agents import create_sql_agent\n",
        "\n",
        "def get_answer(prompt):\n",
        "    # define the database we want to use for our test\n",
        "    db = SQLDatabase.from_uri('sqlite:///sql_lite_database.db')\n",
        "\n",
        "    # choose llm model, in this case the default OpenAI model\n",
        "    llm = OpenAI(\n",
        "                temperature=0,\n",
        "                verbose=True,\n",
        "                openai_api_key=os.getenv(\"OPENAI_API_KEY\"),\n",
        "                )\n",
        "    # setup agent\n",
        "    toolkit = SQLDatabaseToolkit(db=db, llm=llm)\n",
        "    agent_executor = create_sql_agent(\n",
        "        llm=llm,\n",
        "        toolkit=toolkit,\n",
        "        verbose=True,\n",
        "        agent_type=AgentType.ZERO_SHOT_REACT_DESCRIPTION,\n",
        "    )\n",
        "\n",
        "    result =  agent_executor.invoke(prompt)\n",
        "    return result"
      ],
      "metadata": {
        "id": "yKD-9BjEzsP2"
      },
      "execution_count": null,
      "outputs": []
    },
    {
      "cell_type": "markdown",
      "source": [
        "###Query 1"
      ],
      "metadata": {
        "id": "To23q2_mUNub"
      }
    },
    {
      "cell_type": "code",
      "source": [
        "question = \"How many tables are there?\"\n",
        "get_answer(question)"
      ],
      "metadata": {
        "colab": {
          "base_uri": "https://localhost:8080/"
        },
        "id": "KtzfdOiBn-7C",
        "outputId": "da955650-453f-4d67-d220-54eef4244491"
      },
      "execution_count": null,
      "outputs": [
        {
          "output_type": "stream",
          "name": "stdout",
          "text": [
            "\n",
            "\n",
            "\u001b[1m> Entering new SQL Agent Executor chain...\u001b[0m\n",
            "\u001b[32;1m\u001b[1;3m I should use the sql_db_list_tables tool to get a list of tables in the database.\n",
            "Action: sql_db_list_tables\n",
            "Action Input: \"\"\u001b[0m\u001b[38;5;200m\u001b[1;3mAGENTS, CUSTOMER, ORDERS\u001b[0m\u001b[32;1m\u001b[1;3m3 tables are listed.\n",
            "Final Answer: 3\u001b[0m\n",
            "\n",
            "\u001b[1m> Finished chain.\u001b[0m\n"
          ]
        },
        {
          "output_type": "execute_result",
          "data": {
            "text/plain": [
              "{'input': 'How many tables are there?', 'output': '3'}"
            ]
          },
          "metadata": {},
          "execution_count": 7
        }
      ]
    },
    {
      "cell_type": "code",
      "source": [
        "question = \"name the agent whose code is A010\"\n",
        "get_answer(question)"
      ],
      "metadata": {
        "colab": {
          "base_uri": "https://localhost:8080/"
        },
        "id": "4JKIWRJC1uRM",
        "outputId": "0ecce334-ac7a-4a53-b933-fcd4b73c18d3"
      },
      "execution_count": null,
      "outputs": [
        {
          "output_type": "stream",
          "name": "stdout",
          "text": [
            "\n",
            "\n",
            "\u001b[1m> Entering new SQL Agent Executor chain...\u001b[0m\n",
            "\u001b[32;1m\u001b[1;3m I need to find the table that contains agent information and then query for the agent with code A010\n",
            "Action: sql_db_list_tables\n",
            "Action Input: \"\"\u001b[0m\u001b[38;5;200m\u001b[1;3mAGENTS, CUSTOMER, ORDERS\u001b[0m\u001b[32;1m\u001b[1;3mI see that the AGENTS table contains agent information\n",
            "Action: sql_db_schema\n",
            "Action Input: AGENTS\u001b[0m\u001b[33;1m\u001b[1;3m\n",
            "CREATE TABLE \"AGENTS\" (\n",
            "\t\"AGENT_CODE\" CHAR(6) NOT NULL, \n",
            "\t\"AGENT_NAME\" CHAR(40), \n",
            "\t\"WORKING_AREA\" CHAR(35), \n",
            "\t\"COMMISSION\" NUMERIC(10, 2), \n",
            "\t\"PHONE_NO\" CHAR(15), \n",
            "\t\"COUNTRY\" TEXT(25), \n",
            "\tPRIMARY KEY (\"AGENT_CODE\")\n",
            ")\n",
            "\n",
            "/*\n",
            "3 rows from AGENTS table:\n",
            "AGENT_CODE\tAGENT_NAME\tWORKING_AREA\tCOMMISSION\tPHONE_NO\tCOUNTRY\n",
            "A007\tRamasundar\tBangalore\t0.15\t077-25814763\t\n",
            "A003\tAlex \tLondon\t0.13\t075-12458969\t\n",
            "A008\tAlford\tNew York\t0.12\t044-25874365\t\n",
            "*/\u001b[0m\u001b[32;1m\u001b[1;3mI now have the schema and sample rows for the AGENTS table\n",
            "Action: sql_db_query_checker\n",
            "Action Input: SELECT * FROM AGENTS WHERE AGENT_CODE = 'A010'\u001b[0m\u001b[36;1m\u001b[1;3m SELECT * FROM AGENTS WHERE AGENT_CODE = 'A010'\u001b[0m\u001b[32;1m\u001b[1;3m The query is correct, I can now execute it\n",
            "Action: sql_db_query\n",
            "Action Input: SELECT * FROM AGENTS WHERE AGENT_CODE = 'A010'\u001b[0m\u001b[36;1m\u001b[1;3m[('A010', 'Santakumar', 'Chennai', 0.14, '007-22388644', '')]\u001b[0m\u001b[32;1m\u001b[1;3m I now know the final answer\n",
            "Final Answer: The agent with code A010 is Santakumar from Chennai.\u001b[0m\n",
            "\n",
            "\u001b[1m> Finished chain.\u001b[0m\n"
          ]
        },
        {
          "output_type": "execute_result",
          "data": {
            "text/plain": [
              "{'input': 'name the agent whose code is A010',\n",
              " 'output': 'The agent with code A010 is Santakumar from Chennai.'}"
            ]
          },
          "metadata": {},
          "execution_count": 8
        }
      ]
    },
    {
      "cell_type": "markdown",
      "source": [
        "- That’s it. We have just chatted with our database.\n",
        "- It works well, even if the descriptions of the database fields are not always clear."
      ],
      "metadata": {
        "id": "e80mUDEjG2bL"
      }
    },
    {
      "cell_type": "markdown",
      "source": [
        "### Query 2\n",
        "\n",
        "\n"
      ],
      "metadata": {
        "id": "AP60Z5kEHBCA"
      }
    },
    {
      "cell_type": "code",
      "source": [
        "# define the user's question\n",
        "question = \"List all customers from the US\"\n",
        "get_answer(question)"
      ],
      "metadata": {
        "colab": {
          "base_uri": "https://localhost:8080/"
        },
        "id": "uSZ-MpQ9Flk0",
        "outputId": "b23d65f7-3fa6-495c-8dc4-d28817a4ffcd"
      },
      "execution_count": null,
      "outputs": [
        {
          "output_type": "stream",
          "name": "stdout",
          "text": [
            "\n",
            "\n",
            "\u001b[1m> Entering new SQL Agent Executor chain...\u001b[0m\n",
            "\u001b[32;1m\u001b[1;3m We need to query the database for customers from the US.\n",
            "Action: sql_db_query\n",
            "Action Input: SELECT * FROM customers WHERE country = 'US'\u001b[0m\u001b[36;1m\u001b[1;3mError: (sqlite3.OperationalError) no such table: customers\n",
            "[SQL: SELECT * FROM customers WHERE country = 'US']\n",
            "(Background on this error at: https://sqlalche.me/e/20/e3q8)\u001b[0m\u001b[32;1m\u001b[1;3m We need to check the table name and fields using sql_db_schema.\n",
            "Action: sql_db_schema\n",
            "Action Input: customers\u001b[0m\u001b[33;1m\u001b[1;3mError: table_names {'customers'} not found in database\u001b[0m\u001b[32;1m\u001b[1;3m We need to check the list of tables in the database using sql_db_list_tables.\n",
            "Action: sql_db_list_tables\n",
            "Action Input: \u001b[0m\u001b[38;5;200m\u001b[1;3mAGENTS, CUSTOMER, ORDERS\u001b[0m\u001b[32;1m\u001b[1;3m We need to double check our query using sql_db_query_checker.\n",
            "Action: sql_db_query_checker\n",
            "Action Input: SELECT * FROM CUSTOMER WHERE COUNTRY = 'US'\u001b[0m\u001b[36;1m\u001b[1;3m SELECT * FROM CUSTOMER WHERE COUNTRY = 'US'\u001b[0m\u001b[32;1m\u001b[1;3m We can now execute our query using sql_db_query.\n",
            "Action: sql_db_query\n",
            "Action Input: SELECT * FROM CUSTOMER WHERE COUNTRY = 'US'\u001b[0m\u001b[36;1m\u001b[1;3mError: (sqlite3.OperationalError) no such column: COUNTRY\n",
            "[SQL: SELECT * FROM CUSTOMER WHERE COUNTRY = 'US']\n",
            "(Background on this error at: https://sqlalche.me/e/20/e3q8)\u001b[0m\u001b[32;1m\u001b[1;3m We need to check the table fields using sql_db_schema.\n",
            "Action: sql_db_schema\n",
            "Action Input: CUSTOMER\u001b[0m\u001b[33;1m\u001b[1;3m\n",
            "CREATE TABLE \"CUSTOMER\" (\n",
            "\t\"CUST_CODE\" TEXT(6) NOT NULL, \n",
            "\t\"CUST_NAME\" TEXT(40) NOT NULL, \n",
            "\t\"CUST_CITY\" CHAR(35), \n",
            "\t\"WORKING_AREA\" TEXT(35) NOT NULL, \n",
            "\t\"CUST_COUNTRY\" TEXT(20) NOT NULL, \n",
            "\t\"GRADE\" NUMERIC, \n",
            "\t\"OPENING_AMT\" NUMERIC(12, 2) NOT NULL, \n",
            "\t\"RECEIVE_AMT\" NUMERIC(12, 2) NOT NULL, \n",
            "\t\"PAYMENT_AMT\" NUMERIC(12, 2) NOT NULL, \n",
            "\t\"OUTSTANDING_AMT\" NUMERIC(12, 2) NOT NULL, \n",
            "\t\"PHONE_NO\" TEXT(17) NOT NULL, \n",
            "\t\"AGENT_CODE\" CHAR(6) NOT NULL, \n",
            "\tPRIMARY KEY (\"CUST_CODE\"), \n",
            "\tFOREIGN KEY(\"AGENT_CODE\") REFERENCES \"AGENTS\" (\"AGENT_CODE\")\n",
            ")\n",
            "\n",
            "/*\n",
            "3 rows from CUSTOMER table:\n",
            "CUST_CODE\tCUST_NAME\tCUST_CITY\tWORKING_AREA\tCUST_COUNTRY\tGRADE\tOPENING_AMT\tRECEIVE_AMT\tPAYMENT_AMT\tOUTSTANDING_AMT\tPHONE_NO\tAGENT_CODE\n",
            "C00013\tHolmes\tLondon\tLondon\tUK\t2.0000000000\t6000.00\t5000.00\t7000.00\t4000.00\tBBBBBBB\tA003\n",
            "C00001\tMicheal\tNew York\tNew York\tUSA\t2.0000000000\t3000.00\t5000.00\t2000.00\t6000.00\tCCCCCCC\tA008\n",
            "C00020\tAlbert\tNew York\tNew York\tUSA\t3.0000000000\t5000.00\t7000.00\t6000.00\t6000.00\tBBBBSBB\tA008\n",
            "*/\u001b[0m\u001b[32;1m\u001b[1;3m We can now execute our query using sql_db_query.\n",
            "Action: sql_db_query\n",
            "Action Input: SELECT * FROM CUSTOMER WHERE CUST_COUNTRY = 'USA'\u001b[0m\u001b[36;1m\u001b[1;3m[('C00001', 'Micheal', 'New York', 'New York', 'USA', 2, 3000, 5000, 2000, 6000, 'CCCCCCC', 'A008'), ('C00020', 'Albert', 'New York', 'New York', 'USA', 3, 5000, 7000, 6000, 6000, 'BBBBSBB', 'A008'), ('C00002', 'Bolt', 'New York', 'New York', 'USA', 3, 5000, 7000, 9000, 3000, 'DDNRDRH', 'A008'), ('C00012', 'Steven', 'San Jose', 'San Jose', 'USA', 1, 5000, 7000, 9000, 3000, 'KRFYGJK', 'A012')]\u001b[0m\u001b[32;1m\u001b[1;3m We have successfully listed all customers from the US.\n",
            "Final Answer: SELECT * FROM CUSTOMER WHERE CUST_COUNTRY = 'USA'\u001b[0m\n",
            "\n",
            "\u001b[1m> Finished chain.\u001b[0m\n"
          ]
        },
        {
          "output_type": "execute_result",
          "data": {
            "text/plain": [
              "{'input': 'List all customers from the US',\n",
              " 'output': \"SELECT * FROM CUSTOMER WHERE CUST_COUNTRY = 'USA'\"}"
            ]
          },
          "metadata": {},
          "execution_count": 9
        }
      ]
    },
    {
      "cell_type": "markdown",
      "source": [
        "### Query3"
      ],
      "metadata": {
        "id": "fl61IxxPHqGe"
      }
    },
    {
      "cell_type": "code",
      "source": [
        "# define the user's question\n",
        "question = \"What is the phone number of the customer Albert?\"\n",
        "get_answer(question)"
      ],
      "metadata": {
        "id": "LrAF7Ir2Hk3x",
        "colab": {
          "base_uri": "https://localhost:8080/"
        },
        "outputId": "3242130e-e93b-49d2-b2c6-72d675f56cc4"
      },
      "execution_count": null,
      "outputs": [
        {
          "output_type": "stream",
          "name": "stdout",
          "text": [
            "\n",
            "\n",
            "\u001b[1m> Entering new SQL Agent Executor chain...\u001b[0m\n",
            "\u001b[32;1m\u001b[1;3m We need to query the database to find the phone number of the customer named Albert.\n",
            "Action: sql_db_query\n",
            "Action Input: SELECT phone_number FROM customers WHERE name = 'Albert'\u001b[0m\u001b[36;1m\u001b[1;3mError: (sqlite3.OperationalError) no such table: customers\n",
            "[SQL: SELECT phone_number FROM customers WHERE name = 'Albert']\n",
            "(Background on this error at: https://sqlalche.me/e/20/e3q8)\u001b[0m\u001b[32;1m\u001b[1;3mWe need to use sql_db_list_tables to see if the customers table exists.\n",
            "Action: sql_db_list_tables\n",
            "Action Input: \"\"\u001b[0m\u001b[38;5;200m\u001b[1;3mAGENTS, CUSTOMER, ORDERS\u001b[0m\u001b[32;1m\u001b[1;3m The customers table does not exist, so we need to use sql_db_schema to see the schema and sample rows for the CUSTOMER table.\n",
            "Action: sql_db_schema\n",
            "Action Input: CUSTOMER\u001b[0m\u001b[33;1m\u001b[1;3m\n",
            "CREATE TABLE \"CUSTOMER\" (\n",
            "\t\"CUST_CODE\" TEXT(6) NOT NULL, \n",
            "\t\"CUST_NAME\" TEXT(40) NOT NULL, \n",
            "\t\"CUST_CITY\" CHAR(35), \n",
            "\t\"WORKING_AREA\" TEXT(35) NOT NULL, \n",
            "\t\"CUST_COUNTRY\" TEXT(20) NOT NULL, \n",
            "\t\"GRADE\" NUMERIC, \n",
            "\t\"OPENING_AMT\" NUMERIC(12, 2) NOT NULL, \n",
            "\t\"RECEIVE_AMT\" NUMERIC(12, 2) NOT NULL, \n",
            "\t\"PAYMENT_AMT\" NUMERIC(12, 2) NOT NULL, \n",
            "\t\"OUTSTANDING_AMT\" NUMERIC(12, 2) NOT NULL, \n",
            "\t\"PHONE_NO\" TEXT(17) NOT NULL, \n",
            "\t\"AGENT_CODE\" CHAR(6) NOT NULL, \n",
            "\tPRIMARY KEY (\"CUST_CODE\"), \n",
            "\tFOREIGN KEY(\"AGENT_CODE\") REFERENCES \"AGENTS\" (\"AGENT_CODE\")\n",
            ")\n",
            "\n",
            "/*\n",
            "3 rows from CUSTOMER table:\n",
            "CUST_CODE\tCUST_NAME\tCUST_CITY\tWORKING_AREA\tCUST_COUNTRY\tGRADE\tOPENING_AMT\tRECEIVE_AMT\tPAYMENT_AMT\tOUTSTANDING_AMT\tPHONE_NO\tAGENT_CODE\n",
            "C00013\tHolmes\tLondon\tLondon\tUK\t2.0000000000\t6000.00\t5000.00\t7000.00\t4000.00\tBBBBBBB\tA003\n",
            "C00001\tMicheal\tNew York\tNew York\tUSA\t2.0000000000\t3000.00\t5000.00\t2000.00\t6000.00\tCCCCCCC\tA008\n",
            "C00020\tAlbert\tNew York\tNew York\tUSA\t3.0000000000\t5000.00\t7000.00\t6000.00\t6000.00\tBBBBSBB\tA008\n",
            "*/\u001b[0m\u001b[32;1m\u001b[1;3m Now we can see that the phone number for the customer Albert is 6000.00.\n",
            "Final Answer: 6000.00\u001b[0m\n",
            "\n",
            "\u001b[1m> Finished chain.\u001b[0m\n"
          ]
        },
        {
          "output_type": "execute_result",
          "data": {
            "text/plain": [
              "{'input': 'What is the phone number of the customer Albert?',\n",
              " 'output': '6000.00'}"
            ]
          },
          "metadata": {},
          "execution_count": 10
        }
      ]
    },
    {
      "cell_type": "code",
      "source": [],
      "metadata": {
        "id": "bLTT5eOIIBkz"
      },
      "execution_count": null,
      "outputs": []
    }
  ]
}